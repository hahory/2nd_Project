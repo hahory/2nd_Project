{
 "cells": [
  {
   "cell_type": "code",
   "execution_count": 14,
   "metadata": {},
   "outputs": [],
   "source": [
    "import pandas as pd"
   ]
  },
  {
   "cell_type": "code",
   "execution_count": 15,
   "metadata": {},
   "outputs": [],
   "source": [
    "hs12=pd.read_excel('HS2012-17-BEC5 -- 08 Nov 2018.xlsx')\n",
    "hs12.rename(columns={'HS6':'HS12'}, inplace=True)"
   ]
  },
  {
   "cell_type": "code",
   "execution_count": 16,
   "metadata": {},
   "outputs": [],
   "source": [
    "hs17=pd.read_excel('HS2012-17-BEC5 -- 08 Nov 2018.xlsx', sheet_name='HS17BEC5')\n",
    "hs17.rename(columns={'HS6':'HS17'}, inplace=True)"
   ]
  },
  {
   "cell_type": "code",
   "execution_count": 17,
   "metadata": {},
   "outputs": [],
   "source": [
    "hs12_hs17=pd.merge(hs12, hs17, how='outer', on='BEC5Code1')"
   ]
  },
  {
   "cell_type": "code",
   "execution_count": 18,
   "metadata": {},
   "outputs": [
    {
     "data": {
      "text/html": [
       "<div>\n",
       "<style scoped>\n",
       "    .dataframe tbody tr th:only-of-type {\n",
       "        vertical-align: middle;\n",
       "    }\n",
       "\n",
       "    .dataframe tbody tr th {\n",
       "        vertical-align: top;\n",
       "    }\n",
       "\n",
       "    .dataframe thead th {\n",
       "        text-align: right;\n",
       "    }\n",
       "</style>\n",
       "<table border=\"1\" class=\"dataframe\">\n",
       "  <thead>\n",
       "    <tr style=\"text-align: right;\">\n",
       "      <th></th>\n",
       "      <th>HS_x</th>\n",
       "      <th>HS4_x</th>\n",
       "      <th>HS4Desc_x</th>\n",
       "      <th>HS12</th>\n",
       "      <th>HS6Desc_x</th>\n",
       "      <th>BEC5Code1</th>\n",
       "      <th>BEC5Code2_x</th>\n",
       "      <th>BEC5Category_x</th>\n",
       "      <th>BEC5EndUse_x</th>\n",
       "      <th>BEC5Processing_x</th>\n",
       "      <th>...</th>\n",
       "      <th>GTAPdesc_y</th>\n",
       "      <th>CPC1_y</th>\n",
       "      <th>CPCdesc_y</th>\n",
       "      <th>BEC4Code_y</th>\n",
       "      <th>BEC4ENDUSE_y</th>\n",
       "      <th>BEC4INT_y</th>\n",
       "      <th>BEC4CONS_y</th>\n",
       "      <th>BEC4CAP_y</th>\n",
       "      <th>AddedByUNSD_y</th>\n",
       "      <th>NoteByUNSD_y</th>\n",
       "    </tr>\n",
       "  </thead>\n",
       "  <tbody>\n",
       "    <tr>\n",
       "      <th>0</th>\n",
       "      <td>H4</td>\n",
       "      <td>101</td>\n",
       "      <td>Live horses, asses, mules and hinnies.</td>\n",
       "      <td>10121</td>\n",
       "      <td>live purebred breeding horses</td>\n",
       "      <td>712010.0</td>\n",
       "      <td>NaN</td>\n",
       "      <td>Health, pharmaceuticals, education, cultural, ...</td>\n",
       "      <td>CAP</td>\n",
       "      <td>NaN</td>\n",
       "      <td>...</td>\n",
       "      <td>Bovine cattle sheep and goats horses,</td>\n",
       "      <td>2113.0</td>\n",
       "      <td>Horses  asses  mules and hinnies  live</td>\n",
       "      <td>41</td>\n",
       "      <td>CAP</td>\n",
       "      <td>0.0</td>\n",
       "      <td>0.0</td>\n",
       "      <td>1.0</td>\n",
       "      <td>1</td>\n",
       "      <td>1To1 WITH H4</td>\n",
       "    </tr>\n",
       "    <tr>\n",
       "      <th>1</th>\n",
       "      <td>H4</td>\n",
       "      <td>101</td>\n",
       "      <td>Live horses, asses, mules and hinnies.</td>\n",
       "      <td>10121</td>\n",
       "      <td>live purebred breeding horses</td>\n",
       "      <td>712010.0</td>\n",
       "      <td>NaN</td>\n",
       "      <td>Health, pharmaceuticals, education, cultural, ...</td>\n",
       "      <td>CAP</td>\n",
       "      <td>NaN</td>\n",
       "      <td>...</td>\n",
       "      <td>Machinery and equipment nec,</td>\n",
       "      <td>44912.0</td>\n",
       "      <td>Dryers for wood  paper pulp  paper or paperboa...</td>\n",
       "      <td>41</td>\n",
       "      <td>CAP</td>\n",
       "      <td>0.0</td>\n",
       "      <td>0.0</td>\n",
       "      <td>1.0</td>\n",
       "      <td>1</td>\n",
       "      <td>1To1 WITH H4</td>\n",
       "    </tr>\n",
       "    <tr>\n",
       "      <th>2</th>\n",
       "      <td>H4</td>\n",
       "      <td>101</td>\n",
       "      <td>Live horses, asses, mules and hinnies.</td>\n",
       "      <td>10121</td>\n",
       "      <td>live purebred breeding horses</td>\n",
       "      <td>712010.0</td>\n",
       "      <td>NaN</td>\n",
       "      <td>Health, pharmaceuticals, education, cultural, ...</td>\n",
       "      <td>CAP</td>\n",
       "      <td>NaN</td>\n",
       "      <td>...</td>\n",
       "      <td>Machinery and equipment nec,</td>\n",
       "      <td>43922.0</td>\n",
       "      <td>Weighing machinery (excluding balances of a se...</td>\n",
       "      <td>41</td>\n",
       "      <td>CAP</td>\n",
       "      <td>0.0</td>\n",
       "      <td>0.0</td>\n",
       "      <td>1.0</td>\n",
       "      <td>1</td>\n",
       "      <td>1To1 WITH H4</td>\n",
       "    </tr>\n",
       "    <tr>\n",
       "      <th>3</th>\n",
       "      <td>H4</td>\n",
       "      <td>101</td>\n",
       "      <td>Live horses, asses, mules and hinnies.</td>\n",
       "      <td>10121</td>\n",
       "      <td>live purebred breeding horses</td>\n",
       "      <td>712010.0</td>\n",
       "      <td>NaN</td>\n",
       "      <td>Health, pharmaceuticals, education, cultural, ...</td>\n",
       "      <td>CAP</td>\n",
       "      <td>NaN</td>\n",
       "      <td>...</td>\n",
       "      <td>Machinery and equipment nec,</td>\n",
       "      <td>43560.0</td>\n",
       "      <td>Other lifting  handling  loading or unloading ...</td>\n",
       "      <td>41</td>\n",
       "      <td>CAP</td>\n",
       "      <td>0.0</td>\n",
       "      <td>0.0</td>\n",
       "      <td>1.0</td>\n",
       "      <td>1</td>\n",
       "      <td>1To1 WITH H4</td>\n",
       "    </tr>\n",
       "    <tr>\n",
       "      <th>4</th>\n",
       "      <td>H4</td>\n",
       "      <td>101</td>\n",
       "      <td>Live horses, asses, mules and hinnies.</td>\n",
       "      <td>10121</td>\n",
       "      <td>live purebred breeding horses</td>\n",
       "      <td>712010.0</td>\n",
       "      <td>NaN</td>\n",
       "      <td>Health, pharmaceuticals, education, cultural, ...</td>\n",
       "      <td>CAP</td>\n",
       "      <td>NaN</td>\n",
       "      <td>...</td>\n",
       "      <td>Machinery and equipment nec,</td>\n",
       "      <td>48251.0</td>\n",
       "      <td>Hydrometers and similar floating instruments  ...</td>\n",
       "      <td>41</td>\n",
       "      <td>CAP</td>\n",
       "      <td>0.0</td>\n",
       "      <td>0.0</td>\n",
       "      <td>1.0</td>\n",
       "      <td>1</td>\n",
       "      <td>NTo1 WITH H4-902511</td>\n",
       "    </tr>\n",
       "  </tbody>\n",
       "</table>\n",
       "<p>5 rows × 59 columns</p>\n",
       "</div>"
      ],
      "text/plain": [
       "  HS_x  HS4_x                               HS4Desc_x   HS12  \\\n",
       "0   H4    101  Live horses, asses, mules and hinnies.  10121   \n",
       "1   H4    101  Live horses, asses, mules and hinnies.  10121   \n",
       "2   H4    101  Live horses, asses, mules and hinnies.  10121   \n",
       "3   H4    101  Live horses, asses, mules and hinnies.  10121   \n",
       "4   H4    101  Live horses, asses, mules and hinnies.  10121   \n",
       "\n",
       "                       HS6Desc_x  BEC5Code1  BEC5Code2_x  \\\n",
       "0  live purebred breeding horses   712010.0          NaN   \n",
       "1  live purebred breeding horses   712010.0          NaN   \n",
       "2  live purebred breeding horses   712010.0          NaN   \n",
       "3  live purebred breeding horses   712010.0          NaN   \n",
       "4  live purebred breeding horses   712010.0          NaN   \n",
       "\n",
       "                                      BEC5Category_x BEC5EndUse_x  \\\n",
       "0  Health, pharmaceuticals, education, cultural, ...          CAP   \n",
       "1  Health, pharmaceuticals, education, cultural, ...          CAP   \n",
       "2  Health, pharmaceuticals, education, cultural, ...          CAP   \n",
       "3  Health, pharmaceuticals, education, cultural, ...          CAP   \n",
       "4  Health, pharmaceuticals, education, cultural, ...          CAP   \n",
       "\n",
       "  BEC5Processing_x  ...                             GTAPdesc_y   CPC1_y  \\\n",
       "0              NaN  ...  Bovine cattle sheep and goats horses,   2113.0   \n",
       "1              NaN  ...           Machinery and equipment nec,  44912.0   \n",
       "2              NaN  ...           Machinery and equipment nec,  43922.0   \n",
       "3              NaN  ...           Machinery and equipment nec,  43560.0   \n",
       "4              NaN  ...           Machinery and equipment nec,  48251.0   \n",
       "\n",
       "                                           CPCdesc_y BEC4Code_y BEC4ENDUSE_y  \\\n",
       "0             Horses  asses  mules and hinnies  live         41          CAP   \n",
       "1  Dryers for wood  paper pulp  paper or paperboa...         41          CAP   \n",
       "2  Weighing machinery (excluding balances of a se...         41          CAP   \n",
       "3  Other lifting  handling  loading or unloading ...         41          CAP   \n",
       "4  Hydrometers and similar floating instruments  ...         41          CAP   \n",
       "\n",
       "   BEC4INT_y BEC4CONS_y BEC4CAP_y  AddedByUNSD_y         NoteByUNSD_y  \n",
       "0        0.0        0.0       1.0              1         1To1 WITH H4  \n",
       "1        0.0        0.0       1.0              1         1To1 WITH H4  \n",
       "2        0.0        0.0       1.0              1         1To1 WITH H4  \n",
       "3        0.0        0.0       1.0              1         1To1 WITH H4  \n",
       "4        0.0        0.0       1.0              1  NTo1 WITH H4-902511  \n",
       "\n",
       "[5 rows x 59 columns]"
      ]
     },
     "execution_count": 18,
     "metadata": {},
     "output_type": "execute_result"
    }
   ],
   "source": [
    "hs12_hs17.head()"
   ]
  },
  {
   "cell_type": "code",
   "execution_count": 12,
   "metadata": {},
   "outputs": [
    {
     "data": {
      "text/plain": [
       "Index(['HS_x', 'HS4_x', 'HS4Desc_x', 'HS12', 'HS6Desc_x', 'BEC5Code1',\n",
       "       'BEC5Code2_x', 'BEC5Category_x', 'BEC5EndUse_x', 'BEC5Processing_x',\n",
       "       'BEC5Specification_x', 'BEC5Durability_x', 'i3_x', 'i31Desc_x',\n",
       "       'standesci3_x', 'i4_x', 'i4Desc_x', 'standesci4_x', 'GTAP_x',\n",
       "       'GTAPcode_x', 'GTAPdesc_x', 'CPC1_x', 'CPCdesc_x', 'BEC4Code_x',\n",
       "       'BEC4ENDUSE_x', 'BEC4INT_x', 'BEC4CONS_x', 'BEC4CAP_x', 'AddedByUNSD_x',\n",
       "       'NoteByUNSD_x', 'HS_y', 'HS4_y', 'HS4Desc_y', 'HS17', 'HS6Desc_y',\n",
       "       'BEC5Code2_y', 'BEC5Category_y', 'BEC5EndUse_y', 'BEC5Processing_y',\n",
       "       'BEC5Specification_y', 'BEC5Durability_y', 'i3_y', 'i31Desc_y',\n",
       "       'standesci3_y', 'i4_y', 'i4Desc_y', 'standesci4_y', 'GTAP_y',\n",
       "       'GTAPcode_y', 'GTAPdesc_y', 'CPC1_y', 'CPCdesc_y', 'BEC4Code_y',\n",
       "       'BEC4ENDUSE_y', 'BEC4INT_y', 'BEC4CONS_y', 'BEC4CAP_y', 'AddedByUNSD_y',\n",
       "       'NoteByUNSD_y'],\n",
       "      dtype='object')"
      ]
     },
     "execution_count": 12,
     "metadata": {},
     "output_type": "execute_result"
    }
   ],
   "source": [
    "#hs12_hs17.columns"
   ]
  },
  {
   "cell_type": "code",
   "execution_count": 8,
   "metadata": {},
   "outputs": [],
   "source": [
    "#hs12_hs17=hs12_hs17[['HS', 'HS4','HS12', 'HS17', 'HS4Desc', 'HS6Desc', 'BEC5Code1', 'BEC5Code2',\n",
    "       'BEC5Category', 'BEC5EndUse', 'BEC5Processing', 'BEC5Specification',\n",
    "       'BEC5Durability', 'i3', 'i31Desc', 'standesci3', 'i4', 'i4Desc',\n",
    "       'standesci4', 'GTAP', 'GTAPcode', 'GTAPdesc', 'CPC1', 'CPCdesc',\n",
    "       'BEC4Code', 'BEC4ENDUSE', 'BEC4INT', 'BEC4CONS', 'BEC4CAP',\n",
    "       'AddedByUNSD', 'NoteByUNSD']]"
   ]
  },
  {
   "cell_type": "code",
   "execution_count": 13,
   "metadata": {},
   "outputs": [
    {
     "ename": "KeyError",
     "evalue": "\"['HS4'] not in index\"",
     "output_type": "error",
     "traceback": [
      "\u001b[1;31m---------------------------------------------------------------------------\u001b[0m",
      "\u001b[1;31mKeyError\u001b[0m                                  Traceback (most recent call last)",
      "\u001b[1;32m~\\AppData\\Local\\Temp/ipykernel_19272/3694022994.py\u001b[0m in \u001b[0;36m<module>\u001b[1;34m\u001b[0m\n\u001b[1;32m----> 1\u001b[1;33m \u001b[0mhs12_hs17\u001b[0m\u001b[1;33m=\u001b[0m\u001b[0mhs12_hs17\u001b[0m\u001b[1;33m[\u001b[0m\u001b[1;33m[\u001b[0m\u001b[1;34m'HS4'\u001b[0m\u001b[1;33m,\u001b[0m\u001b[1;34m'HS12'\u001b[0m\u001b[1;33m,\u001b[0m \u001b[1;34m'HS17'\u001b[0m\u001b[1;33m,\u001b[0m\u001b[1;34m'BEC5Code1'\u001b[0m\u001b[1;33m]\u001b[0m\u001b[1;33m]\u001b[0m\u001b[1;33m\u001b[0m\u001b[1;33m\u001b[0m\u001b[0m\n\u001b[0m",
      "\u001b[1;32mc:\\Anaconda3\\lib\\site-packages\\pandas\\core\\frame.py\u001b[0m in \u001b[0;36m__getitem__\u001b[1;34m(self, key)\u001b[0m\n\u001b[0;32m   3462\u001b[0m             \u001b[1;32mif\u001b[0m \u001b[0mis_iterator\u001b[0m\u001b[1;33m(\u001b[0m\u001b[0mkey\u001b[0m\u001b[1;33m)\u001b[0m\u001b[1;33m:\u001b[0m\u001b[1;33m\u001b[0m\u001b[1;33m\u001b[0m\u001b[0m\n\u001b[0;32m   3463\u001b[0m                 \u001b[0mkey\u001b[0m \u001b[1;33m=\u001b[0m \u001b[0mlist\u001b[0m\u001b[1;33m(\u001b[0m\u001b[0mkey\u001b[0m\u001b[1;33m)\u001b[0m\u001b[1;33m\u001b[0m\u001b[1;33m\u001b[0m\u001b[0m\n\u001b[1;32m-> 3464\u001b[1;33m             \u001b[0mindexer\u001b[0m \u001b[1;33m=\u001b[0m \u001b[0mself\u001b[0m\u001b[1;33m.\u001b[0m\u001b[0mloc\u001b[0m\u001b[1;33m.\u001b[0m\u001b[0m_get_listlike_indexer\u001b[0m\u001b[1;33m(\u001b[0m\u001b[0mkey\u001b[0m\u001b[1;33m,\u001b[0m \u001b[0maxis\u001b[0m\u001b[1;33m=\u001b[0m\u001b[1;36m1\u001b[0m\u001b[1;33m)\u001b[0m\u001b[1;33m[\u001b[0m\u001b[1;36m1\u001b[0m\u001b[1;33m]\u001b[0m\u001b[1;33m\u001b[0m\u001b[1;33m\u001b[0m\u001b[0m\n\u001b[0m\u001b[0;32m   3465\u001b[0m \u001b[1;33m\u001b[0m\u001b[0m\n\u001b[0;32m   3466\u001b[0m         \u001b[1;31m# take() does not accept boolean indexers\u001b[0m\u001b[1;33m\u001b[0m\u001b[1;33m\u001b[0m\u001b[0m\n",
      "\u001b[1;32mc:\\Anaconda3\\lib\\site-packages\\pandas\\core\\indexing.py\u001b[0m in \u001b[0;36m_get_listlike_indexer\u001b[1;34m(self, key, axis)\u001b[0m\n\u001b[0;32m   1312\u001b[0m             \u001b[0mkeyarr\u001b[0m\u001b[1;33m,\u001b[0m \u001b[0mindexer\u001b[0m\u001b[1;33m,\u001b[0m \u001b[0mnew_indexer\u001b[0m \u001b[1;33m=\u001b[0m \u001b[0max\u001b[0m\u001b[1;33m.\u001b[0m\u001b[0m_reindex_non_unique\u001b[0m\u001b[1;33m(\u001b[0m\u001b[0mkeyarr\u001b[0m\u001b[1;33m)\u001b[0m\u001b[1;33m\u001b[0m\u001b[1;33m\u001b[0m\u001b[0m\n\u001b[0;32m   1313\u001b[0m \u001b[1;33m\u001b[0m\u001b[0m\n\u001b[1;32m-> 1314\u001b[1;33m         \u001b[0mself\u001b[0m\u001b[1;33m.\u001b[0m\u001b[0m_validate_read_indexer\u001b[0m\u001b[1;33m(\u001b[0m\u001b[0mkeyarr\u001b[0m\u001b[1;33m,\u001b[0m \u001b[0mindexer\u001b[0m\u001b[1;33m,\u001b[0m \u001b[0maxis\u001b[0m\u001b[1;33m)\u001b[0m\u001b[1;33m\u001b[0m\u001b[1;33m\u001b[0m\u001b[0m\n\u001b[0m\u001b[0;32m   1315\u001b[0m \u001b[1;33m\u001b[0m\u001b[0m\n\u001b[0;32m   1316\u001b[0m         if needs_i8_conversion(ax.dtype) or isinstance(\n",
      "\u001b[1;32mc:\\Anaconda3\\lib\\site-packages\\pandas\\core\\indexing.py\u001b[0m in \u001b[0;36m_validate_read_indexer\u001b[1;34m(self, key, indexer, axis)\u001b[0m\n\u001b[0;32m   1375\u001b[0m \u001b[1;33m\u001b[0m\u001b[0m\n\u001b[0;32m   1376\u001b[0m             \u001b[0mnot_found\u001b[0m \u001b[1;33m=\u001b[0m \u001b[0mlist\u001b[0m\u001b[1;33m(\u001b[0m\u001b[0mensure_index\u001b[0m\u001b[1;33m(\u001b[0m\u001b[0mkey\u001b[0m\u001b[1;33m)\u001b[0m\u001b[1;33m[\u001b[0m\u001b[0mmissing_mask\u001b[0m\u001b[1;33m.\u001b[0m\u001b[0mnonzero\u001b[0m\u001b[1;33m(\u001b[0m\u001b[1;33m)\u001b[0m\u001b[1;33m[\u001b[0m\u001b[1;36m0\u001b[0m\u001b[1;33m]\u001b[0m\u001b[1;33m]\u001b[0m\u001b[1;33m.\u001b[0m\u001b[0munique\u001b[0m\u001b[1;33m(\u001b[0m\u001b[1;33m)\u001b[0m\u001b[1;33m)\u001b[0m\u001b[1;33m\u001b[0m\u001b[1;33m\u001b[0m\u001b[0m\n\u001b[1;32m-> 1377\u001b[1;33m             \u001b[1;32mraise\u001b[0m \u001b[0mKeyError\u001b[0m\u001b[1;33m(\u001b[0m\u001b[1;34mf\"{not_found} not in index\"\u001b[0m\u001b[1;33m)\u001b[0m\u001b[1;33m\u001b[0m\u001b[1;33m\u001b[0m\u001b[0m\n\u001b[0m\u001b[0;32m   1378\u001b[0m \u001b[1;33m\u001b[0m\u001b[0m\n\u001b[0;32m   1379\u001b[0m \u001b[1;33m\u001b[0m\u001b[0m\n",
      "\u001b[1;31mKeyError\u001b[0m: \"['HS4'] not in index\""
     ]
    }
   ],
   "source": [
    "hs12_hs17=hs12_hs17[['HS4','HS12', 'HS17','BEC5Code1']]"
   ]
  },
  {
   "cell_type": "code",
   "execution_count": 10,
   "metadata": {},
   "outputs": [
    {
     "data": {
      "text/html": [
       "<div>\n",
       "<style scoped>\n",
       "    .dataframe tbody tr th:only-of-type {\n",
       "        vertical-align: middle;\n",
       "    }\n",
       "\n",
       "    .dataframe tbody tr th {\n",
       "        vertical-align: top;\n",
       "    }\n",
       "\n",
       "    .dataframe thead th {\n",
       "        text-align: right;\n",
       "    }\n",
       "</style>\n",
       "<table border=\"1\" class=\"dataframe\">\n",
       "  <thead>\n",
       "    <tr style=\"text-align: right;\">\n",
       "      <th></th>\n",
       "      <th>HS4</th>\n",
       "      <th>HS12</th>\n",
       "      <th>HS17</th>\n",
       "      <th>BEC5Code1</th>\n",
       "    </tr>\n",
       "  </thead>\n",
       "  <tbody>\n",
       "    <tr>\n",
       "      <th>0</th>\n",
       "      <td>101</td>\n",
       "      <td>10121.0</td>\n",
       "      <td>NaN</td>\n",
       "      <td>712010.0</td>\n",
       "    </tr>\n",
       "    <tr>\n",
       "      <th>1</th>\n",
       "      <td>101</td>\n",
       "      <td>10129.0</td>\n",
       "      <td>NaN</td>\n",
       "      <td>1111.0</td>\n",
       "    </tr>\n",
       "    <tr>\n",
       "      <th>2</th>\n",
       "      <td>101</td>\n",
       "      <td>10130.0</td>\n",
       "      <td>NaN</td>\n",
       "      <td>1111.0</td>\n",
       "    </tr>\n",
       "    <tr>\n",
       "      <th>3</th>\n",
       "      <td>101</td>\n",
       "      <td>10190.0</td>\n",
       "      <td>NaN</td>\n",
       "      <td>1111.0</td>\n",
       "    </tr>\n",
       "    <tr>\n",
       "      <th>4</th>\n",
       "      <td>102</td>\n",
       "      <td>10221.0</td>\n",
       "      <td>NaN</td>\n",
       "      <td>112010.0</td>\n",
       "    </tr>\n",
       "  </tbody>\n",
       "</table>\n",
       "</div>"
      ],
      "text/plain": [
       "   HS4     HS12  HS17  BEC5Code1\n",
       "0  101  10121.0   NaN   712010.0\n",
       "1  101  10129.0   NaN     1111.0\n",
       "2  101  10130.0   NaN     1111.0\n",
       "3  101  10190.0   NaN     1111.0\n",
       "4  102  10221.0   NaN   112010.0"
      ]
     },
     "execution_count": 10,
     "metadata": {},
     "output_type": "execute_result"
    }
   ],
   "source": [
    "hs12_hs17.head()"
   ]
  },
  {
   "cell_type": "code",
   "execution_count": 68,
   "metadata": {},
   "outputs": [
    {
     "data": {
      "text/plain": [
       "HS4             0\n",
       "HS12         5387\n",
       "HS17         5205\n",
       "BEC5Code1       4\n",
       "dtype: int64"
      ]
     },
     "execution_count": 68,
     "metadata": {},
     "output_type": "execute_result"
    }
   ],
   "source": [
    "hs12_hs17.isnull().sum()"
   ]
  },
  {
   "cell_type": "code",
   "execution_count": 69,
   "metadata": {},
   "outputs": [
    {
     "data": {
      "text/html": [
       "<div>\n",
       "<style scoped>\n",
       "    .dataframe tbody tr th:only-of-type {\n",
       "        vertical-align: middle;\n",
       "    }\n",
       "\n",
       "    .dataframe tbody tr th {\n",
       "        vertical-align: top;\n",
       "    }\n",
       "\n",
       "    .dataframe thead th {\n",
       "        text-align: right;\n",
       "    }\n",
       "</style>\n",
       "<table border=\"1\" class=\"dataframe\">\n",
       "  <thead>\n",
       "    <tr style=\"text-align: right;\">\n",
       "      <th></th>\n",
       "      <th>HS4</th>\n",
       "      <th>HS12</th>\n",
       "      <th>HS17</th>\n",
       "      <th>BEC5Code1</th>\n",
       "    </tr>\n",
       "  </thead>\n",
       "  <tbody>\n",
       "    <tr>\n",
       "      <th>3357</th>\n",
       "      <td>7108</td>\n",
       "      <td>710820.0</td>\n",
       "      <td>NaN</td>\n",
       "      <td>NaN</td>\n",
       "    </tr>\n",
       "    <tr>\n",
       "      <th>3386</th>\n",
       "      <td>7118</td>\n",
       "      <td>711890.0</td>\n",
       "      <td>NaN</td>\n",
       "      <td>NaN</td>\n",
       "    </tr>\n",
       "    <tr>\n",
       "      <th>8718</th>\n",
       "      <td>7108</td>\n",
       "      <td>NaN</td>\n",
       "      <td>710820.0</td>\n",
       "      <td>NaN</td>\n",
       "    </tr>\n",
       "    <tr>\n",
       "      <th>8747</th>\n",
       "      <td>7118</td>\n",
       "      <td>NaN</td>\n",
       "      <td>711890.0</td>\n",
       "      <td>NaN</td>\n",
       "    </tr>\n",
       "  </tbody>\n",
       "</table>\n",
       "</div>"
      ],
      "text/plain": [
       "       HS4      HS12      HS17  BEC5Code1\n",
       "3357  7108  710820.0       NaN        NaN\n",
       "3386  7118  711890.0       NaN        NaN\n",
       "8718  7108       NaN  710820.0        NaN\n",
       "8747  7118       NaN  711890.0        NaN"
      ]
     },
     "execution_count": 69,
     "metadata": {},
     "output_type": "execute_result"
    }
   ],
   "source": [
    "hs12_hs17[hs12_hs17['BEC5Code1'].isnull()]"
   ]
  },
  {
   "cell_type": "code",
   "execution_count": 70,
   "metadata": {},
   "outputs": [],
   "source": [
    "hs12_hs17=hs12_hs17.fillna(0)"
   ]
  },
  {
   "cell_type": "code",
   "execution_count": 71,
   "metadata": {},
   "outputs": [],
   "source": [
    "hs12_hs17=hs12_hs17.astype({'HS12':'int64'})\n",
    "hs12_hs17=hs12_hs17.astype({'HS17':'int64'})\n",
    "hs12_hs17=hs12_hs17.astype({'BEC5Code1':'int64'})"
   ]
  },
  {
   "cell_type": "code",
   "execution_count": 72,
   "metadata": {},
   "outputs": [],
   "source": [
    "hs12_hs17.loc[hs12_hs17['HS12'] == 710820, 'BEC5Code1'] = 9999999\n",
    "hs12_hs17.loc[hs12_hs17['HS12'] == 711890, 'BEC5Code1'] = 9999999\n",
    "hs12_hs17.loc[hs12_hs17['HS17'] == 710820, 'BEC5Code1'] = 9999999\n",
    "hs12_hs17.loc[hs12_hs17['HS17'] == 711890, 'BEC5Code1'] = 9999999"
   ]
  },
  {
   "cell_type": "code",
   "execution_count": 73,
   "metadata": {},
   "outputs": [
    {
     "data": {
      "text/plain": [
       "HS4          0\n",
       "HS12         0\n",
       "HS17         0\n",
       "BEC5Code1    0\n",
       "dtype: int64"
      ]
     },
     "execution_count": 73,
     "metadata": {},
     "output_type": "execute_result"
    }
   ],
   "source": [
    "hs12_hs17.isnull().sum()"
   ]
  },
  {
   "cell_type": "code",
   "execution_count": 74,
   "metadata": {},
   "outputs": [
    {
     "data": {
      "text/html": [
       "<div>\n",
       "<style scoped>\n",
       "    .dataframe tbody tr th:only-of-type {\n",
       "        vertical-align: middle;\n",
       "    }\n",
       "\n",
       "    .dataframe tbody tr th {\n",
       "        vertical-align: top;\n",
       "    }\n",
       "\n",
       "    .dataframe thead th {\n",
       "        text-align: right;\n",
       "    }\n",
       "</style>\n",
       "<table border=\"1\" class=\"dataframe\">\n",
       "  <thead>\n",
       "    <tr style=\"text-align: right;\">\n",
       "      <th></th>\n",
       "      <th>HS4</th>\n",
       "      <th>HS12</th>\n",
       "      <th>HS17</th>\n",
       "      <th>BEC5Code1</th>\n",
       "    </tr>\n",
       "  </thead>\n",
       "  <tbody>\n",
       "    <tr>\n",
       "      <th>0</th>\n",
       "      <td>101</td>\n",
       "      <td>10121</td>\n",
       "      <td>0</td>\n",
       "      <td>712010</td>\n",
       "    </tr>\n",
       "    <tr>\n",
       "      <th>1</th>\n",
       "      <td>101</td>\n",
       "      <td>10129</td>\n",
       "      <td>0</td>\n",
       "      <td>1111</td>\n",
       "    </tr>\n",
       "    <tr>\n",
       "      <th>2</th>\n",
       "      <td>101</td>\n",
       "      <td>10130</td>\n",
       "      <td>0</td>\n",
       "      <td>1111</td>\n",
       "    </tr>\n",
       "    <tr>\n",
       "      <th>3</th>\n",
       "      <td>101</td>\n",
       "      <td>10190</td>\n",
       "      <td>0</td>\n",
       "      <td>1111</td>\n",
       "    </tr>\n",
       "    <tr>\n",
       "      <th>4</th>\n",
       "      <td>102</td>\n",
       "      <td>10221</td>\n",
       "      <td>0</td>\n",
       "      <td>112010</td>\n",
       "    </tr>\n",
       "    <tr>\n",
       "      <th>...</th>\n",
       "      <td>...</td>\n",
       "      <td>...</td>\n",
       "      <td>...</td>\n",
       "      <td>...</td>\n",
       "    </tr>\n",
       "    <tr>\n",
       "      <th>10587</th>\n",
       "      <td>9702</td>\n",
       "      <td>0</td>\n",
       "      <td>970200</td>\n",
       "      <td>713202</td>\n",
       "    </tr>\n",
       "    <tr>\n",
       "      <th>10588</th>\n",
       "      <td>9703</td>\n",
       "      <td>0</td>\n",
       "      <td>970300</td>\n",
       "      <td>713202</td>\n",
       "    </tr>\n",
       "    <tr>\n",
       "      <th>10589</th>\n",
       "      <td>9704</td>\n",
       "      <td>0</td>\n",
       "      <td>970400</td>\n",
       "      <td>813202</td>\n",
       "    </tr>\n",
       "    <tr>\n",
       "      <th>10590</th>\n",
       "      <td>9705</td>\n",
       "      <td>0</td>\n",
       "      <td>970500</td>\n",
       "      <td>713202</td>\n",
       "    </tr>\n",
       "    <tr>\n",
       "      <th>10591</th>\n",
       "      <td>9706</td>\n",
       "      <td>0</td>\n",
       "      <td>970600</td>\n",
       "      <td>713202</td>\n",
       "    </tr>\n",
       "  </tbody>\n",
       "</table>\n",
       "<p>10592 rows × 4 columns</p>\n",
       "</div>"
      ],
      "text/plain": [
       "        HS4   HS12    HS17  BEC5Code1\n",
       "0       101  10121       0     712010\n",
       "1       101  10129       0       1111\n",
       "2       101  10130       0       1111\n",
       "3       101  10190       0       1111\n",
       "4       102  10221       0     112010\n",
       "...     ...    ...     ...        ...\n",
       "10587  9702      0  970200     713202\n",
       "10588  9703      0  970300     713202\n",
       "10589  9704      0  970400     813202\n",
       "10590  9705      0  970500     713202\n",
       "10591  9706      0  970600     713202\n",
       "\n",
       "[10592 rows x 4 columns]"
      ]
     },
     "execution_count": 74,
     "metadata": {},
     "output_type": "execute_result"
    }
   ],
   "source": [
    "hs12_hs17"
   ]
  },
  {
   "cell_type": "code",
   "execution_count": null,
   "metadata": {},
   "outputs": [],
   "source": [
    "hs12_hs17.to_csv(\"hs17_12_4_bec.csv\", index = False)"
   ]
  }
 ],
 "metadata": {
  "kernelspec": {
   "display_name": "Python 3.9.7 ('base')",
   "language": "python",
   "name": "python3"
  },
  "language_info": {
   "codemirror_mode": {
    "name": "ipython",
    "version": 3
   },
   "file_extension": ".py",
   "mimetype": "text/x-python",
   "name": "python",
   "nbconvert_exporter": "python",
   "pygments_lexer": "ipython3",
   "version": "3.9.7"
  },
  "orig_nbformat": 4,
  "vscode": {
   "interpreter": {
    "hash": "e4cce46d6be9934fbd27f9ca0432556941ea5bdf741d4f4d64c6cd7f8dfa8fba"
   }
  }
 },
 "nbformat": 4,
 "nbformat_minor": 2
}
