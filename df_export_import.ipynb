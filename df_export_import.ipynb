{
 "cells": [
  {
   "cell_type": "code",
   "execution_count": 1,
   "metadata": {},
   "outputs": [],
   "source": [
    "import pandas as pd"
   ]
  },
  {
   "cell_type": "code",
   "execution_count": 32,
   "metadata": {},
   "outputs": [],
   "source": [
    "df=pd.read_csv('df_export_import.csv')"
   ]
  },
  {
   "cell_type": "code",
   "execution_count": 18,
   "metadata": {},
   "outputs": [
    {
     "name": "stdout",
     "output_type": "stream",
     "text": [
      "<class 'pandas.core.frame.DataFrame'>\n",
      "RangeIndex: 15712 entries, 0 to 15711\n",
      "Data columns (total 6 columns):\n",
      " #   Column          Non-Null Count  Dtype  \n",
      "---  ------          --------------  -----  \n",
      " 0   Unnamed: 0      15712 non-null  int64  \n",
      " 1   BEC             15710 non-null  float64\n",
      " 2   USD             15710 non-null  float64\n",
      " 3   Country         15710 non-null  object \n",
      " 4   Year            15710 non-null  float64\n",
      " 5   import, export  15710 non-null  object \n",
      "dtypes: float64(3), int64(1), object(2)\n",
      "memory usage: 736.6+ KB\n"
     ]
    }
   ],
   "source": [
    "df.info()"
   ]
  },
  {
   "cell_type": "code",
   "execution_count": 33,
   "metadata": {},
   "outputs": [],
   "source": [
    "df.drop(['Unnamed: 0'],axis=1, inplace=True) #불필요한 열 삭제\n",
    "df.drop([0], inplace=True)\n",
    "df.fillna(0, inplace=True)\n",
    "df['BEC']=df['BEC'].astype('int64')\n",
    "df['Year']=df['Year'].astype('int64')\n",
    "df['USD']=df['USD'].astype('int64')"
   ]
  },
  {
   "cell_type": "code",
   "execution_count": 34,
   "metadata": {},
   "outputs": [
    {
     "data": {
      "text/html": [
       "<div>\n",
       "<style scoped>\n",
       "    .dataframe tbody tr th:only-of-type {\n",
       "        vertical-align: middle;\n",
       "    }\n",
       "\n",
       "    .dataframe tbody tr th {\n",
       "        vertical-align: top;\n",
       "    }\n",
       "\n",
       "    .dataframe thead th {\n",
       "        text-align: right;\n",
       "    }\n",
       "</style>\n",
       "<table border=\"1\" class=\"dataframe\">\n",
       "  <thead>\n",
       "    <tr style=\"text-align: right;\">\n",
       "      <th></th>\n",
       "      <th>BEC</th>\n",
       "      <th>USD</th>\n",
       "      <th>Country</th>\n",
       "      <th>Year</th>\n",
       "      <th>import, export</th>\n",
       "    </tr>\n",
       "  </thead>\n",
       "  <tbody>\n",
       "    <tr>\n",
       "      <th>1</th>\n",
       "      <td>212</td>\n",
       "      <td>153321</td>\n",
       "      <td>australia</td>\n",
       "      <td>2012</td>\n",
       "      <td>export</td>\n",
       "    </tr>\n",
       "    <tr>\n",
       "      <th>2</th>\n",
       "      <td>312</td>\n",
       "      <td>404674</td>\n",
       "      <td>australia</td>\n",
       "      <td>2012</td>\n",
       "      <td>export</td>\n",
       "    </tr>\n",
       "    <tr>\n",
       "      <th>3</th>\n",
       "      <td>512</td>\n",
       "      <td>325689</td>\n",
       "      <td>australia</td>\n",
       "      <td>2012</td>\n",
       "      <td>export</td>\n",
       "    </tr>\n",
       "    <tr>\n",
       "      <th>4</th>\n",
       "      <td>612</td>\n",
       "      <td>3769</td>\n",
       "      <td>australia</td>\n",
       "      <td>2012</td>\n",
       "      <td>export</td>\n",
       "    </tr>\n",
       "    <tr>\n",
       "      <th>5</th>\n",
       "      <td>712</td>\n",
       "      <td>215251</td>\n",
       "      <td>australia</td>\n",
       "      <td>2012</td>\n",
       "      <td>export</td>\n",
       "    </tr>\n",
       "  </tbody>\n",
       "</table>\n",
       "</div>"
      ],
      "text/plain": [
       "   BEC     USD    Country  Year import, export\n",
       "1  212  153321  australia  2012         export\n",
       "2  312  404674  australia  2012         export\n",
       "3  512  325689  australia  2012         export\n",
       "4  612    3769  australia  2012         export\n",
       "5  712  215251  australia  2012         export"
      ]
     },
     "execution_count": 34,
     "metadata": {},
     "output_type": "execute_result"
    }
   ],
   "source": [
    "df.head()"
   ]
  },
  {
   "cell_type": "code",
   "execution_count": 35,
   "metadata": {},
   "outputs": [],
   "source": [
    "df.to_csv('df_total.csv', index=False)"
   ]
  }
 ],
 "metadata": {
  "kernelspec": {
   "display_name": "Python 3.9.7 ('base')",
   "language": "python",
   "name": "python3"
  },
  "language_info": {
   "codemirror_mode": {
    "name": "ipython",
    "version": 3
   },
   "file_extension": ".py",
   "mimetype": "text/x-python",
   "name": "python",
   "nbconvert_exporter": "python",
   "pygments_lexer": "ipython3",
   "version": "3.9.7"
  },
  "orig_nbformat": 4,
  "vscode": {
   "interpreter": {
    "hash": "c1de356c01870b1905353d93fb5b08e9dac708fcd7a1cb7f129b78550db01998"
   }
  }
 },
 "nbformat": 4,
 "nbformat_minor": 2
}
