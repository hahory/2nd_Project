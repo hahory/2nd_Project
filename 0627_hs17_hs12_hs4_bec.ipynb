{
 "cells": [
  {
   "cell_type": "code",
   "execution_count": 1,
   "metadata": {},
   "outputs": [],
   "source": [
    "import pandas as pd"
   ]
  },
  {
   "cell_type": "code",
   "execution_count": 2,
   "metadata": {},
   "outputs": [],
   "source": [
    "hs12=pd.read_excel('HS2012-17-BEC5 -- 08 Nov 2018.xlsx')"
   ]
  },
  {
   "cell_type": "code",
   "execution_count": 3,
   "metadata": {},
   "outputs": [
    {
     "name": "stdout",
     "output_type": "stream",
     "text": [
      "<class 'pandas.core.frame.DataFrame'>\n",
      "RangeIndex: 5205 entries, 0 to 5204\n",
      "Data columns (total 30 columns):\n",
      " #   Column             Non-Null Count  Dtype  \n",
      "---  ------             --------------  -----  \n",
      " 0   HS                 5205 non-null   object \n",
      " 1   HS4                5205 non-null   int64  \n",
      " 2   HS4Desc            5205 non-null   object \n",
      " 3   HS6                5205 non-null   int64  \n",
      " 4   HS6Desc            5205 non-null   object \n",
      " 5   BEC5Code1          5203 non-null   float64\n",
      " 6   BEC5Code2          350 non-null    float64\n",
      " 7   BEC5Category       5203 non-null   object \n",
      " 8   BEC5EndUse         5203 non-null   object \n",
      " 9   BEC5Processing     4522 non-null   object \n",
      " 10  BEC5Specification  3478 non-null   object \n",
      " 11  BEC5Durability     1384 non-null   object \n",
      " 12  i3                 5205 non-null   int64  \n",
      " 13  i31Desc            5173 non-null   object \n",
      " 14  standesci3         5205 non-null   object \n",
      " 15  i4                 5205 non-null   int64  \n",
      " 16  i4Desc             5205 non-null   object \n",
      " 17  standesci4         5205 non-null   object \n",
      " 18  GTAP               5199 non-null   float64\n",
      " 19  GTAPcode           5199 non-null   object \n",
      " 20  GTAPdesc           5199 non-null   object \n",
      " 21  CPC1               5198 non-null   float64\n",
      " 22  CPCdesc            5198 non-null   object \n",
      " 23  BEC4Code           5205 non-null   int64  \n",
      " 24  BEC4ENDUSE         5205 non-null   object \n",
      " 25  BEC4INT            5191 non-null   float64\n",
      " 26  BEC4CONS           5191 non-null   float64\n",
      " 27  BEC4CAP            5191 non-null   float64\n",
      " 28  AddedByUNSD        5205 non-null   int64  \n",
      " 29  NoteByUNSD         5 non-null      object \n",
      "dtypes: float64(7), int64(6), object(17)\n",
      "memory usage: 1.2+ MB\n"
     ]
    }
   ],
   "source": [
    "hs12.info()"
   ]
  },
  {
   "cell_type": "code",
   "execution_count": 4,
   "metadata": {},
   "outputs": [],
   "source": [
    "hs17=pd.read_excel('HS2012-17-BEC5 -- 08 Nov 2018.xlsx', sheet_name='HS17BEC5')"
   ]
  },
  {
   "cell_type": "code",
   "execution_count": 5,
   "metadata": {},
   "outputs": [
    {
     "name": "stdout",
     "output_type": "stream",
     "text": [
      "<class 'pandas.core.frame.DataFrame'>\n",
      "RangeIndex: 5387 entries, 0 to 5386\n",
      "Data columns (total 30 columns):\n",
      " #   Column             Non-Null Count  Dtype  \n",
      "---  ------             --------------  -----  \n",
      " 0   HS                 5387 non-null   object \n",
      " 1   HS4                5387 non-null   int64  \n",
      " 2   HS4Desc            5387 non-null   object \n",
      " 3   HS6                5387 non-null   int64  \n",
      " 4   HS6Desc            5387 non-null   object \n",
      " 5   BEC5Code1          5385 non-null   float64\n",
      " 6   BEC5Code2          367 non-null    float64\n",
      " 7   BEC5Category       5385 non-null   object \n",
      " 8   BEC5EndUse         5385 non-null   object \n",
      " 9   BEC5Processing     4687 non-null   object \n",
      " 10  BEC5Specification  3588 non-null   object \n",
      " 11  BEC5Durability     1441 non-null   object \n",
      " 12  i3                 5387 non-null   int64  \n",
      " 13  i31Desc            5341 non-null   object \n",
      " 14  standesci3         5387 non-null   object \n",
      " 15  i4                 5387 non-null   int64  \n",
      " 16  i4Desc             5387 non-null   object \n",
      " 17  standesci4         5387 non-null   object \n",
      " 18  GTAP               5381 non-null   float64\n",
      " 19  GTAPcode           5381 non-null   object \n",
      " 20  GTAPdesc           5381 non-null   object \n",
      " 21  CPC1               5380 non-null   float64\n",
      " 22  CPCdesc            5380 non-null   object \n",
      " 23  BEC4Code           5387 non-null   int64  \n",
      " 24  BEC4ENDUSE         5387 non-null   object \n",
      " 25  BEC4INT            5373 non-null   float64\n",
      " 26  BEC4CONS           5373 non-null   float64\n",
      " 27  BEC4CAP            5373 non-null   float64\n",
      " 28  AddedByUNSD        5387 non-null   int64  \n",
      " 29  NoteByUNSD         5387 non-null   object \n",
      "dtypes: float64(7), int64(6), object(17)\n",
      "memory usage: 1.2+ MB\n"
     ]
    }
   ],
   "source": [
    "hs17.info()"
   ]
  },
  {
   "cell_type": "code",
   "execution_count": 6,
   "metadata": {},
   "outputs": [],
   "source": [
    "hs12_hs17=pd.merge(hs17, hs12, how='left')"
   ]
  },
  {
   "cell_type": "code",
   "execution_count": 7,
   "metadata": {},
   "outputs": [],
   "source": [
    "hs12_hs17=hs12_hs17[['HS4','HS6','BEC5Code1']]"
   ]
  },
  {
   "cell_type": "code",
   "execution_count": 8,
   "metadata": {},
   "outputs": [
    {
     "data": {
      "text/plain": [
       "HS4          0\n",
       "HS6          0\n",
       "BEC5Code1    2\n",
       "dtype: int64"
      ]
     },
     "execution_count": 8,
     "metadata": {},
     "output_type": "execute_result"
    }
   ],
   "source": [
    "hs12_hs17.isnull().sum()"
   ]
  },
  {
   "cell_type": "code",
   "execution_count": 9,
   "metadata": {},
   "outputs": [
    {
     "data": {
      "text/html": [
       "<div>\n",
       "<style scoped>\n",
       "    .dataframe tbody tr th:only-of-type {\n",
       "        vertical-align: middle;\n",
       "    }\n",
       "\n",
       "    .dataframe tbody tr th {\n",
       "        vertical-align: top;\n",
       "    }\n",
       "\n",
       "    .dataframe thead th {\n",
       "        text-align: right;\n",
       "    }\n",
       "</style>\n",
       "<table border=\"1\" class=\"dataframe\">\n",
       "  <thead>\n",
       "    <tr style=\"text-align: right;\">\n",
       "      <th></th>\n",
       "      <th>HS4</th>\n",
       "      <th>HS6</th>\n",
       "      <th>BEC5Code1</th>\n",
       "    </tr>\n",
       "  </thead>\n",
       "  <tbody>\n",
       "    <tr>\n",
       "      <th>3513</th>\n",
       "      <td>7108</td>\n",
       "      <td>710820</td>\n",
       "      <td>NaN</td>\n",
       "    </tr>\n",
       "    <tr>\n",
       "      <th>3542</th>\n",
       "      <td>7118</td>\n",
       "      <td>711890</td>\n",
       "      <td>NaN</td>\n",
       "    </tr>\n",
       "  </tbody>\n",
       "</table>\n",
       "</div>"
      ],
      "text/plain": [
       "       HS4     HS6  BEC5Code1\n",
       "3513  7108  710820        NaN\n",
       "3542  7118  711890        NaN"
      ]
     },
     "execution_count": 9,
     "metadata": {},
     "output_type": "execute_result"
    }
   ],
   "source": [
    "hs12_hs17[hs12_hs17['BEC5Code1'].isnull()]"
   ]
  },
  {
   "cell_type": "code",
   "execution_count": 15,
   "metadata": {},
   "outputs": [
    {
     "ename": "SyntaxError",
     "evalue": "invalid syntax (Temp/ipykernel_14588/536832363.py, line 1)",
     "output_type": "error",
     "traceback": [
      "\u001b[1;36m  File \u001b[1;32m\"C:\\Users\\user\\AppData\\Local\\Temp/ipykernel_14588/536832363.py\"\u001b[1;36m, line \u001b[1;32m1\u001b[0m\n\u001b[1;33m    hs12_hs17_fillna=(hs12_hs17.loc[hs12_hs17['BEC5Code1'] == 'NaN', 'BEC5Code1'] = 9999999, inplace=True)\u001b[0m\n\u001b[1;37m                                                                                  ^\u001b[0m\n\u001b[1;31mSyntaxError\u001b[0m\u001b[1;31m:\u001b[0m invalid syntax\n"
     ]
    }
   ],
   "source": [
    "hs12_hs17.loc[hs12_hs17['BEC5Code1'] == 'NaN', 'BEC5Code1'] = 9999999"
   ]
  },
  {
   "cell_type": "code",
   "execution_count": 11,
   "metadata": {},
   "outputs": [
    {
     "data": {
      "text/html": [
       "<div>\n",
       "<style scoped>\n",
       "    .dataframe tbody tr th:only-of-type {\n",
       "        vertical-align: middle;\n",
       "    }\n",
       "\n",
       "    .dataframe tbody tr th {\n",
       "        vertical-align: top;\n",
       "    }\n",
       "\n",
       "    .dataframe thead th {\n",
       "        text-align: right;\n",
       "    }\n",
       "</style>\n",
       "<table border=\"1\" class=\"dataframe\">\n",
       "  <thead>\n",
       "    <tr style=\"text-align: right;\">\n",
       "      <th></th>\n",
       "      <th>HS4</th>\n",
       "      <th>HS6</th>\n",
       "      <th>BEC5Code1</th>\n",
       "    </tr>\n",
       "  </thead>\n",
       "  <tbody>\n",
       "    <tr>\n",
       "      <th>0</th>\n",
       "      <td>101</td>\n",
       "      <td>10121</td>\n",
       "      <td>712010.0</td>\n",
       "    </tr>\n",
       "    <tr>\n",
       "      <th>1</th>\n",
       "      <td>101</td>\n",
       "      <td>10129</td>\n",
       "      <td>1111.0</td>\n",
       "    </tr>\n",
       "    <tr>\n",
       "      <th>2</th>\n",
       "      <td>101</td>\n",
       "      <td>10130</td>\n",
       "      <td>1111.0</td>\n",
       "    </tr>\n",
       "    <tr>\n",
       "      <th>3</th>\n",
       "      <td>101</td>\n",
       "      <td>10190</td>\n",
       "      <td>1111.0</td>\n",
       "    </tr>\n",
       "    <tr>\n",
       "      <th>4</th>\n",
       "      <td>102</td>\n",
       "      <td>10221</td>\n",
       "      <td>112010.0</td>\n",
       "    </tr>\n",
       "    <tr>\n",
       "      <th>...</th>\n",
       "      <td>...</td>\n",
       "      <td>...</td>\n",
       "      <td>...</td>\n",
       "    </tr>\n",
       "    <tr>\n",
       "      <th>5382</th>\n",
       "      <td>9702</td>\n",
       "      <td>970200</td>\n",
       "      <td>713202.0</td>\n",
       "    </tr>\n",
       "    <tr>\n",
       "      <th>5383</th>\n",
       "      <td>9703</td>\n",
       "      <td>970300</td>\n",
       "      <td>713202.0</td>\n",
       "    </tr>\n",
       "    <tr>\n",
       "      <th>5384</th>\n",
       "      <td>9704</td>\n",
       "      <td>970400</td>\n",
       "      <td>813202.0</td>\n",
       "    </tr>\n",
       "    <tr>\n",
       "      <th>5385</th>\n",
       "      <td>9705</td>\n",
       "      <td>970500</td>\n",
       "      <td>713202.0</td>\n",
       "    </tr>\n",
       "    <tr>\n",
       "      <th>5386</th>\n",
       "      <td>9706</td>\n",
       "      <td>970600</td>\n",
       "      <td>713202.0</td>\n",
       "    </tr>\n",
       "  </tbody>\n",
       "</table>\n",
       "<p>5387 rows × 3 columns</p>\n",
       "</div>"
      ],
      "text/plain": [
       "       HS4     HS6  BEC5Code1\n",
       "0      101   10121   712010.0\n",
       "1      101   10129     1111.0\n",
       "2      101   10130     1111.0\n",
       "3      101   10190     1111.0\n",
       "4      102   10221   112010.0\n",
       "...    ...     ...        ...\n",
       "5382  9702  970200   713202.0\n",
       "5383  9703  970300   713202.0\n",
       "5384  9704  970400   813202.0\n",
       "5385  9705  970500   713202.0\n",
       "5386  9706  970600   713202.0\n",
       "\n",
       "[5387 rows x 3 columns]"
      ]
     },
     "execution_count": 11,
     "metadata": {},
     "output_type": "execute_result"
    }
   ],
   "source": [
    "hs12_hs17"
   ]
  },
  {
   "cell_type": "code",
   "execution_count": 12,
   "metadata": {},
   "outputs": [
    {
     "data": {
      "text/plain": [
       "HS4          0\n",
       "HS6          0\n",
       "BEC5Code1    2\n",
       "dtype: int64"
      ]
     },
     "execution_count": 12,
     "metadata": {},
     "output_type": "execute_result"
    }
   ],
   "source": [
    "hs12_hs17.isnull().sum()"
   ]
  }
 ],
 "metadata": {
  "kernelspec": {
   "display_name": "Python 3.9.7 ('base')",
   "language": "python",
   "name": "python3"
  },
  "language_info": {
   "codemirror_mode": {
    "name": "ipython",
    "version": 3
   },
   "file_extension": ".py",
   "mimetype": "text/x-python",
   "name": "python",
   "nbconvert_exporter": "python",
   "pygments_lexer": "ipython3",
   "version": "3.9.7"
  },
  "orig_nbformat": 4,
  "vscode": {
   "interpreter": {
    "hash": "e4cce46d6be9934fbd27f9ca0432556941ea5bdf741d4f4d64c6cd7f8dfa8fba"
   }
  }
 },
 "nbformat": 4,
 "nbformat_minor": 2
}
